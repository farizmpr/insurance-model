{
 "cells": [
  {
   "cell_type": "code",
   "execution_count": 1,
   "metadata": {},
   "outputs": [],
   "source": [
    "import sklearn\n",
    "import statsmodels\n",
    "import seaborn as sns\n",
    "import matplotlib.pyplot as plt\n",
    "import numpy as np\n",
    "import pandas as pd\n",
    "\n",
    "%matplotlib inline"
   ]
  },
  {
   "cell_type": "code",
   "execution_count": 2,
   "metadata": {},
   "outputs": [],
   "source": [
    "import warnings\n",
    "warnings.filterwarnings('ignore')"
   ]
  },
  {
   "cell_type": "code",
   "execution_count": 4,
   "metadata": {},
   "outputs": [
    {
     "data": {
      "text/html": [
       "<div>\n",
       "<style scoped>\n",
       "    .dataframe tbody tr th:only-of-type {\n",
       "        vertical-align: middle;\n",
       "    }\n",
       "\n",
       "    .dataframe tbody tr th {\n",
       "        vertical-align: top;\n",
       "    }\n",
       "\n",
       "    .dataframe thead th {\n",
       "        text-align: right;\n",
       "    }\n",
       "</style>\n",
       "<table border=\"1\" class=\"dataframe\">\n",
       "  <thead>\n",
       "    <tr style=\"text-align: right;\">\n",
       "      <th></th>\n",
       "      <th>Unnamed: 0</th>\n",
       "      <th>Driving_License</th>\n",
       "      <th>Region_Code</th>\n",
       "      <th>Previously_Insured</th>\n",
       "      <th>Annual_Premium</th>\n",
       "      <th>Policy_Sales_Channel</th>\n",
       "      <th>Vintage</th>\n",
       "      <th>Response</th>\n",
       "      <th>Gender_New</th>\n",
       "      <th>Vehicle_Age_new</th>\n",
       "      <th>Vehicle_Damage_New</th>\n",
       "      <th>Premium_new</th>\n",
       "    </tr>\n",
       "  </thead>\n",
       "  <tbody>\n",
       "    <tr>\n",
       "      <th>0</th>\n",
       "      <td>0</td>\n",
       "      <td>1</td>\n",
       "      <td>28.0</td>\n",
       "      <td>0</td>\n",
       "      <td>40454.0</td>\n",
       "      <td>26.0</td>\n",
       "      <td>217</td>\n",
       "      <td>1</td>\n",
       "      <td>1</td>\n",
       "      <td>2</td>\n",
       "      <td>1</td>\n",
       "      <td>1</td>\n",
       "    </tr>\n",
       "    <tr>\n",
       "      <th>1</th>\n",
       "      <td>1</td>\n",
       "      <td>1</td>\n",
       "      <td>3.0</td>\n",
       "      <td>0</td>\n",
       "      <td>33536.0</td>\n",
       "      <td>26.0</td>\n",
       "      <td>183</td>\n",
       "      <td>0</td>\n",
       "      <td>1</td>\n",
       "      <td>1</td>\n",
       "      <td>0</td>\n",
       "      <td>1</td>\n",
       "    </tr>\n",
       "    <tr>\n",
       "      <th>2</th>\n",
       "      <td>2</td>\n",
       "      <td>1</td>\n",
       "      <td>28.0</td>\n",
       "      <td>0</td>\n",
       "      <td>38294.0</td>\n",
       "      <td>26.0</td>\n",
       "      <td>27</td>\n",
       "      <td>1</td>\n",
       "      <td>1</td>\n",
       "      <td>2</td>\n",
       "      <td>1</td>\n",
       "      <td>1</td>\n",
       "    </tr>\n",
       "    <tr>\n",
       "      <th>3</th>\n",
       "      <td>3</td>\n",
       "      <td>1</td>\n",
       "      <td>11.0</td>\n",
       "      <td>1</td>\n",
       "      <td>28619.0</td>\n",
       "      <td>152.0</td>\n",
       "      <td>203</td>\n",
       "      <td>0</td>\n",
       "      <td>1</td>\n",
       "      <td>0</td>\n",
       "      <td>0</td>\n",
       "      <td>0</td>\n",
       "    </tr>\n",
       "    <tr>\n",
       "      <th>4</th>\n",
       "      <td>4</td>\n",
       "      <td>1</td>\n",
       "      <td>41.0</td>\n",
       "      <td>1</td>\n",
       "      <td>27496.0</td>\n",
       "      <td>152.0</td>\n",
       "      <td>39</td>\n",
       "      <td>0</td>\n",
       "      <td>0</td>\n",
       "      <td>0</td>\n",
       "      <td>0</td>\n",
       "      <td>0</td>\n",
       "    </tr>\n",
       "  </tbody>\n",
       "</table>\n",
       "</div>"
      ],
      "text/plain": [
       "   Unnamed: 0  Driving_License  Region_Code  Previously_Insured  \\\n",
       "0           0                1         28.0                   0   \n",
       "1           1                1          3.0                   0   \n",
       "2           2                1         28.0                   0   \n",
       "3           3                1         11.0                   1   \n",
       "4           4                1         41.0                   1   \n",
       "\n",
       "   Annual_Premium  Policy_Sales_Channel  Vintage  Response  Gender_New  \\\n",
       "0         40454.0                  26.0      217         1           1   \n",
       "1         33536.0                  26.0      183         0           1   \n",
       "2         38294.0                  26.0       27         1           1   \n",
       "3         28619.0                 152.0      203         0           1   \n",
       "4         27496.0                 152.0       39         0           0   \n",
       "\n",
       "   Vehicle_Age_new  Vehicle_Damage_New  Premium_new  \n",
       "0                2                   1            1  \n",
       "1                1                   0            1  \n",
       "2                2                   1            1  \n",
       "3                0                   0            0  \n",
       "4                0                   0            0  "
      ]
     },
     "execution_count": 4,
     "metadata": {},
     "output_type": "execute_result"
    }
   ],
   "source": [
    "df=pd.read_csv('incurance_new.csv')\n",
    "df.head()"
   ]
  },
  {
   "cell_type": "code",
   "execution_count": 5,
   "metadata": {},
   "outputs": [
    {
     "data": {
      "text/plain": [
       "Unnamed: 0                int64\n",
       "Driving_License           int64\n",
       "Region_Code             float64\n",
       "Previously_Insured        int64\n",
       "Annual_Premium          float64\n",
       "Policy_Sales_Channel    float64\n",
       "Vintage                   int64\n",
       "Response                  int64\n",
       "Gender_New                int64\n",
       "Vehicle_Age_new           int64\n",
       "Vehicle_Damage_New        int64\n",
       "Premium_new               int64\n",
       "dtype: object"
      ]
     },
     "execution_count": 5,
     "metadata": {},
     "output_type": "execute_result"
    }
   ],
   "source": [
    "df.dtypes"
   ]
  },
  {
   "cell_type": "code",
   "execution_count": 6,
   "metadata": {},
   "outputs": [],
   "source": [
    "del df['Unnamed: 0']"
   ]
  },
  {
   "cell_type": "code",
   "execution_count": 7,
   "metadata": {},
   "outputs": [
    {
     "data": {
      "text/plain": [
       "Driving_License           int64\n",
       "Region_Code             float64\n",
       "Previously_Insured        int64\n",
       "Annual_Premium          float64\n",
       "Policy_Sales_Channel    float64\n",
       "Vintage                   int64\n",
       "Response                  int64\n",
       "Gender_New                int64\n",
       "Vehicle_Age_new           int64\n",
       "Vehicle_Damage_New        int64\n",
       "Premium_new               int64\n",
       "dtype: object"
      ]
     },
     "execution_count": 7,
     "metadata": {},
     "output_type": "execute_result"
    }
   ],
   "source": [
    "df.dtypes"
   ]
  },
  {
   "cell_type": "markdown",
   "metadata": {},
   "source": [
    "# modeling"
   ]
  },
  {
   "cell_type": "markdown",
   "metadata": {},
   "source": [
    "## splitting data"
   ]
  },
  {
   "cell_type": "code",
   "execution_count": 10,
   "metadata": {},
   "outputs": [],
   "source": [
    "from sklearn.model_selection import train_test_split,GridSearchCV"
   ]
  },
  {
   "cell_type": "code",
   "execution_count": 11,
   "metadata": {},
   "outputs": [],
   "source": [
    "X = df.drop(columns='Response')\n",
    "y = df['Response']\n",
    "\n",
    "X_train, X_test, y_train, y_test = train_test_split(X, y, train_size=.80, stratify=y, random_state=42)"
   ]
  },
  {
   "cell_type": "markdown",
   "metadata": {},
   "source": [
    "## base model"
   ]
  },
  {
   "cell_type": "markdown",
   "metadata": {},
   "source": [
    "### logistic regression"
   ]
  },
  {
   "cell_type": "code",
   "execution_count": 12,
   "metadata": {},
   "outputs": [],
   "source": [
    "from sklearn.linear_model import LogisticRegression"
   ]
  },
  {
   "cell_type": "code",
   "execution_count": 13,
   "metadata": {},
   "outputs": [],
   "source": [
    "lr=LogisticRegression()"
   ]
  },
  {
   "cell_type": "code",
   "execution_count": 14,
   "metadata": {},
   "outputs": [
    {
     "data": {
      "text/plain": [
       "LogisticRegression()"
      ]
     },
     "execution_count": 14,
     "metadata": {},
     "output_type": "execute_result"
    }
   ],
   "source": [
    "lr.fit(X_train,y_train)"
   ]
  },
  {
   "cell_type": "code",
   "execution_count": 15,
   "metadata": {},
   "outputs": [],
   "source": [
    "y_pred_LR = lr.predict(X_test)\n",
    "y_pred_train_LR = lr.predict(X_train)"
   ]
  },
  {
   "cell_type": "markdown",
   "metadata": {},
   "source": [
    "### KNN"
   ]
  },
  {
   "cell_type": "code",
   "execution_count": 16,
   "metadata": {},
   "outputs": [],
   "source": [
    "from sklearn.neighbors import KNeighborsClassifier"
   ]
  },
  {
   "cell_type": "code",
   "execution_count": 17,
   "metadata": {},
   "outputs": [],
   "source": [
    "knn = KNeighborsClassifier()"
   ]
  },
  {
   "cell_type": "code",
   "execution_count": 18,
   "metadata": {},
   "outputs": [
    {
     "data": {
      "text/plain": [
       "KNeighborsClassifier()"
      ]
     },
     "execution_count": 18,
     "metadata": {},
     "output_type": "execute_result"
    }
   ],
   "source": [
    "knn.fit(X_train, y_train)"
   ]
  },
  {
   "cell_type": "code",
   "execution_count": 19,
   "metadata": {},
   "outputs": [],
   "source": [
    "y_pred_KNN = knn.predict(X_test)\n",
    "y_pred_train_KNN = knn.predict(X_train)"
   ]
  },
  {
   "cell_type": "markdown",
   "metadata": {},
   "source": [
    "### random forest"
   ]
  },
  {
   "cell_type": "code",
   "execution_count": 21,
   "metadata": {},
   "outputs": [],
   "source": [
    "from sklearn.ensemble import RandomForestClassifier"
   ]
  },
  {
   "cell_type": "code",
   "execution_count": 22,
   "metadata": {},
   "outputs": [
    {
     "data": {
      "text/plain": [
       "RandomForestClassifier()"
      ]
     },
     "execution_count": 22,
     "metadata": {},
     "output_type": "execute_result"
    }
   ],
   "source": [
    "RF = RandomForestClassifier()\n",
    "RF.fit(X_train, y_train)"
   ]
  },
  {
   "cell_type": "code",
   "execution_count": 40,
   "metadata": {},
   "outputs": [],
   "source": [
    "y_pred_RF = RF.predict(X_test)\n",
    "y_pred_train_RF = RF.predict(X_train)"
   ]
  },
  {
   "cell_type": "markdown",
   "metadata": {},
   "source": [
    "## evaluation result"
   ]
  },
  {
   "cell_type": "markdown",
   "metadata": {},
   "source": [
    "### logreg"
   ]
  },
  {
   "cell_type": "code",
   "execution_count": 24,
   "metadata": {},
   "outputs": [],
   "source": [
    "from sklearn.metrics import classification_report, confusion_matrix, precision_score, recall_score, f1_score"
   ]
  },
  {
   "cell_type": "code",
   "execution_count": 25,
   "metadata": {},
   "outputs": [
    {
     "name": "stdout",
     "output_type": "stream",
     "text": [
      "              precision    recall  f1-score   support\n",
      "\n",
      "           0       0.88      0.98      0.93     66880\n",
      "           1       0.28      0.06      0.10      9342\n",
      "\n",
      "    accuracy                           0.87     76222\n",
      "   macro avg       0.58      0.52      0.51     76222\n",
      "weighted avg       0.81      0.87      0.83     76222\n",
      "\n"
     ]
    }
   ],
   "source": [
    "print(classification_report(y_test, y_pred_LR))  #test data"
   ]
  },
  {
   "cell_type": "code",
   "execution_count": 27,
   "metadata": {},
   "outputs": [
    {
     "data": {
      "image/png": "[encoded data removed]",
      "text/plain": [
       "<Figure size 432x288 with 2 Axes>"
      ]
     },
     "metadata": {},
     "output_type": "display_data"
    }
   ],
   "source": [
    "cm_logreg_test=confusion_matrix(y_test,y_pred_LR,labels=[1,0])\n",
    "df_logreg_test=pd.DataFrame(data=cm_logreg_test,columns=['pred 1','pred 0'],index=['akt 1','akt 0'])\n",
    "sns.heatmap(df_logreg_test,annot=True)\n",
    "plt.show()"
   ]
  },
  {
   "cell_type": "code",
   "execution_count": 28,
   "metadata": {},
   "outputs": [
    {
     "data": {
      "text/html": [
       "<div>\n",
       "<style scoped>\n",
       "    .dataframe tbody tr th:only-of-type {\n",
       "        vertical-align: middle;\n",
       "    }\n",
       "\n",
       "    .dataframe tbody tr th {\n",
       "        vertical-align: top;\n",
       "    }\n",
       "\n",
       "    .dataframe thead th {\n",
       "        text-align: right;\n",
       "    }\n",
       "</style>\n",
       "<table border=\"1\" class=\"dataframe\">\n",
       "  <thead>\n",
       "    <tr style=\"text-align: right;\">\n",
       "      <th></th>\n",
       "      <th>pred 1</th>\n",
       "      <th>pred 0</th>\n",
       "    </tr>\n",
       "  </thead>\n",
       "  <tbody>\n",
       "    <tr>\n",
       "      <th>akt 1</th>\n",
       "      <td>583</td>\n",
       "      <td>8759</td>\n",
       "    </tr>\n",
       "    <tr>\n",
       "      <th>akt 0</th>\n",
       "      <td>1474</td>\n",
       "      <td>65406</td>\n",
       "    </tr>\n",
       "  </tbody>\n",
       "</table>\n",
       "</div>"
      ],
      "text/plain": [
       "       pred 1  pred 0\n",
       "akt 1     583    8759\n",
       "akt 0    1474   65406"
      ]
     },
     "execution_count": 28,
     "metadata": {},
     "output_type": "execute_result"
    }
   ],
   "source": [
    "df_logreg_test"
   ]
  },
  {
   "cell_type": "code",
   "execution_count": 29,
   "metadata": {},
   "outputs": [
    {
     "name": "stdout",
     "output_type": "stream",
     "text": [
      "              precision    recall  f1-score   support\n",
      "\n",
      "           0       0.88      0.98      0.93    267519\n",
      "           1       0.28      0.06      0.10     37368\n",
      "\n",
      "    accuracy                           0.86    304887\n",
      "   macro avg       0.58      0.52      0.52    304887\n",
      "weighted avg       0.81      0.86      0.83    304887\n",
      "\n"
     ]
    }
   ],
   "source": [
    "print(classification_report(y_train, y_pred_train_LR)) #train"
   ]
  },
  {
   "cell_type": "code",
   "execution_count": 30,
   "metadata": {},
   "outputs": [
    {
     "data": {
      "image/png": "[encoded data removed]",
      "text/plain": [
       "<Figure size 432x288 with 2 Axes>"
      ]
     },
     "metadata": {},
     "output_type": "display_data"
    }
   ],
   "source": [
    "cm_logreg_train=confusion_matrix(y_train,y_pred_train_LR,labels=[1,0])\n",
    "df_logreg_train=pd.DataFrame(data=cm_logreg_train,columns=['pred 1','pred 0'],index=['akt 1','akt 0'])\n",
    "sns.heatmap(df_logreg_train,annot=True)\n",
    "plt.show()"
   ]
  },
  {
   "cell_type": "code",
   "execution_count": 31,
   "metadata": {},
   "outputs": [
    {
     "data": {
      "text/html": [
       "<div>\n",
       "<style scoped>\n",
       "    .dataframe tbody tr th:only-of-type {\n",
       "        vertical-align: middle;\n",
       "    }\n",
       "\n",
       "    .dataframe tbody tr th {\n",
       "        vertical-align: top;\n",
       "    }\n",
       "\n",
       "    .dataframe thead th {\n",
       "        text-align: right;\n",
       "    }\n",
       "</style>\n",
       "<table border=\"1\" class=\"dataframe\">\n",
       "  <thead>\n",
       "    <tr style=\"text-align: right;\">\n",
       "      <th></th>\n",
       "      <th>pred 1</th>\n",
       "      <th>pred 0</th>\n",
       "    </tr>\n",
       "  </thead>\n",
       "  <tbody>\n",
       "    <tr>\n",
       "      <th>akt 1</th>\n",
       "      <td>2377</td>\n",
       "      <td>34991</td>\n",
       "    </tr>\n",
       "    <tr>\n",
       "      <th>akt 0</th>\n",
       "      <td>6203</td>\n",
       "      <td>261316</td>\n",
       "    </tr>\n",
       "  </tbody>\n",
       "</table>\n",
       "</div>"
      ],
      "text/plain": [
       "       pred 1  pred 0\n",
       "akt 1    2377   34991\n",
       "akt 0    6203  261316"
      ]
     },
     "execution_count": 31,
     "metadata": {},
     "output_type": "execute_result"
    }
   ],
   "source": [
    "df_logreg_train"
   ]
  },
  {
   "cell_type": "markdown",
   "metadata": {},
   "source": [
    "### KNN"
   ]
  },
  {
   "cell_type": "code",
   "execution_count": 32,
   "metadata": {},
   "outputs": [
    {
     "name": "stdout",
     "output_type": "stream",
     "text": [
      "              precision    recall  f1-score   support\n",
      "\n",
      "           0       0.88      0.97      0.92     66880\n",
      "           1       0.20      0.05      0.08      9342\n",
      "\n",
      "    accuracy                           0.86     76222\n",
      "   macro avg       0.54      0.51      0.50     76222\n",
      "weighted avg       0.80      0.86      0.82     76222\n",
      "\n"
     ]
    }
   ],
   "source": [
    "print(classification_report(y_test, y_pred_KNN)) "
   ]
  },
  {
   "cell_type": "code",
   "execution_count": 33,
   "metadata": {},
   "outputs": [
    {
     "data": {
      "image/png": "[encoded data removed]",
      "text/plain": [
       "<Figure size 432x288 with 2 Axes>"
      ]
     },
     "metadata": {},
     "output_type": "display_data"
    }
   ],
   "source": [
    "cm_knn_test=confusion_matrix(y_test,y_pred_KNN,labels=[1,0])\n",
    "df_knn_test=pd.DataFrame(data=cm_knn_test,columns=['pred 1','pred 0'],index=['akt 1','akt 0'])\n",
    "sns.heatmap(df_knn_test,annot=True)\n",
    "plt.show()"
   ]
  },
  {
   "cell_type": "code",
   "execution_count": 34,
   "metadata": {},
   "outputs": [
    {
     "data": {
      "text/html": [
       "<div>\n",
       "<style scoped>\n",
       "    .dataframe tbody tr th:only-of-type {\n",
       "        vertical-align: middle;\n",
       "    }\n",
       "\n",
       "    .dataframe tbody tr th {\n",
       "        vertical-align: top;\n",
       "    }\n",
       "\n",
       "    .dataframe thead th {\n",
       "        text-align: right;\n",
       "    }\n",
       "</style>\n",
       "<table border=\"1\" class=\"dataframe\">\n",
       "  <thead>\n",
       "    <tr style=\"text-align: right;\">\n",
       "      <th></th>\n",
       "      <th>pred 1</th>\n",
       "      <th>pred 0</th>\n",
       "    </tr>\n",
       "  </thead>\n",
       "  <tbody>\n",
       "    <tr>\n",
       "      <th>akt 1</th>\n",
       "      <td>474</td>\n",
       "      <td>8868</td>\n",
       "    </tr>\n",
       "    <tr>\n",
       "      <th>akt 0</th>\n",
       "      <td>1884</td>\n",
       "      <td>64996</td>\n",
       "    </tr>\n",
       "  </tbody>\n",
       "</table>\n",
       "</div>"
      ],
      "text/plain": [
       "       pred 1  pred 0\n",
       "akt 1     474    8868\n",
       "akt 0    1884   64996"
      ]
     },
     "execution_count": 34,
     "metadata": {},
     "output_type": "execute_result"
    }
   ],
   "source": [
    "df_knn_test"
   ]
  },
  {
   "cell_type": "code",
   "execution_count": 35,
   "metadata": {},
   "outputs": [
    {
     "name": "stdout",
     "output_type": "stream",
     "text": [
      "              precision    recall  f1-score   support\n",
      "\n",
      "           0       0.89      0.99      0.94    267519\n",
      "           1       0.62      0.15      0.25     37368\n",
      "\n",
      "    accuracy                           0.88    304887\n",
      "   macro avg       0.75      0.57      0.59    304887\n",
      "weighted avg       0.86      0.88      0.85    304887\n",
      "\n"
     ]
    }
   ],
   "source": [
    "print(classification_report(y_train, y_pred_train_KNN)) "
   ]
  },
  {
   "cell_type": "code",
   "execution_count": 36,
   "metadata": {},
   "outputs": [
    {
     "data": {
      "image/png": "[encoded data removed]",
      "text/plain": [
       "<Figure size 432x288 with 2 Axes>"
      ]
     },
     "metadata": {},
     "output_type": "display_data"
    }
   ],
   "source": [
    "cm_knn_train=confusion_matrix(y_train,y_pred_train_KNN,labels=[1,0])\n",
    "df_knn_train=pd.DataFrame(data=cm_knn_train,columns=['pred 1','pred 0'],index=['akt 1','akt 0'])\n",
    "sns.heatmap(df_knn_train,annot=True)\n",
    "plt.show()"
   ]
  },
  {
   "cell_type": "code",
   "execution_count": 37,
   "metadata": {},
   "outputs": [
    {
     "data": {
      "text/html": [
       "<div>\n",
       "<style scoped>\n",
       "    .dataframe tbody tr th:only-of-type {\n",
       "        vertical-align: middle;\n",
       "    }\n",
       "\n",
       "    .dataframe tbody tr th {\n",
       "        vertical-align: top;\n",
       "    }\n",
       "\n",
       "    .dataframe thead th {\n",
       "        text-align: right;\n",
       "    }\n",
       "</style>\n",
       "<table border=\"1\" class=\"dataframe\">\n",
       "  <thead>\n",
       "    <tr style=\"text-align: right;\">\n",
       "      <th></th>\n",
       "      <th>pred 1</th>\n",
       "      <th>pred 0</th>\n",
       "    </tr>\n",
       "  </thead>\n",
       "  <tbody>\n",
       "    <tr>\n",
       "      <th>akt 1</th>\n",
       "      <td>5738</td>\n",
       "      <td>31630</td>\n",
       "    </tr>\n",
       "    <tr>\n",
       "      <th>akt 0</th>\n",
       "      <td>3583</td>\n",
       "      <td>263936</td>\n",
       "    </tr>\n",
       "  </tbody>\n",
       "</table>\n",
       "</div>"
      ],
      "text/plain": [
       "       pred 1  pred 0\n",
       "akt 1    5738   31630\n",
       "akt 0    3583  263936"
      ]
     },
     "execution_count": 37,
     "metadata": {},
     "output_type": "execute_result"
    }
   ],
   "source": [
    "df_knn_train"
   ]
  },
  {
   "cell_type": "markdown",
   "metadata": {},
   "source": [
    "### random forest"
   ]
  },
  {
   "cell_type": "code",
   "execution_count": 41,
   "metadata": {},
   "outputs": [
    {
     "name": "stdout",
     "output_type": "stream",
     "text": [
      "              precision    recall  f1-score   support\n",
      "\n",
      "           0       0.89      0.95      0.92     66880\n",
      "           1       0.31      0.14      0.20      9342\n",
      "\n",
      "    accuracy                           0.85     76222\n",
      "   macro avg       0.60      0.55      0.56     76222\n",
      "weighted avg       0.82      0.85      0.83     76222\n",
      "\n"
     ]
    }
   ],
   "source": [
    "print(classification_report(y_test, y_pred_RF))  ## test"
   ]
  },
  {
   "cell_type": "code",
   "execution_count": 42,
   "metadata": {},
   "outputs": [
    {
     "data": {
      "image/png": "[encoded data removed]",
      "text/plain": [
       "<Figure size 432x288 with 2 Axes>"
      ]
     },
     "metadata": {},
     "output_type": "display_data"
    }
   ],
   "source": [
    "cm_rf_test=confusion_matrix(y_test,y_pred_RF,labels=[1,0])\n",
    "df_rf_test=pd.DataFrame(data=cm_rf_test,columns=['pred 1','pred 0'],index=['akt 1','akt 0'])\n",
    "sns.heatmap(df_rf_test,annot=True)\n",
    "plt.show()"
   ]
  },
  {
   "cell_type": "code",
   "execution_count": 43,
   "metadata": {},
   "outputs": [
    {
     "data": {
      "text/html": [
       "<div>\n",
       "<style scoped>\n",
       "    .dataframe tbody tr th:only-of-type {\n",
       "        vertical-align: middle;\n",
       "    }\n",
       "\n",
       "    .dataframe tbody tr th {\n",
       "        vertical-align: top;\n",
       "    }\n",
       "\n",
       "    .dataframe thead th {\n",
       "        text-align: right;\n",
       "    }\n",
       "</style>\n",
       "<table border=\"1\" class=\"dataframe\">\n",
       "  <thead>\n",
       "    <tr style=\"text-align: right;\">\n",
       "      <th></th>\n",
       "      <th>pred 1</th>\n",
       "      <th>pred 0</th>\n",
       "    </tr>\n",
       "  </thead>\n",
       "  <tbody>\n",
       "    <tr>\n",
       "      <th>akt 1</th>\n",
       "      <td>1343</td>\n",
       "      <td>7999</td>\n",
       "    </tr>\n",
       "    <tr>\n",
       "      <th>akt 0</th>\n",
       "      <td>3056</td>\n",
       "      <td>63824</td>\n",
       "    </tr>\n",
       "  </tbody>\n",
       "</table>\n",
       "</div>"
      ],
      "text/plain": [
       "       pred 1  pred 0\n",
       "akt 1    1343    7999\n",
       "akt 0    3056   63824"
      ]
     },
     "execution_count": 43,
     "metadata": {},
     "output_type": "execute_result"
    }
   ],
   "source": [
    "df_rf_test"
   ]
  },
  {
   "cell_type": "code",
   "execution_count": 45,
   "metadata": {},
   "outputs": [
    {
     "name": "stdout",
     "output_type": "stream",
     "text": [
      "              precision    recall  f1-score   support\n",
      "\n",
      "           0       1.00      1.00      1.00    267519\n",
      "           1       0.99      0.98      0.98     37368\n",
      "\n",
      "    accuracy                           1.00    304887\n",
      "   macro avg       0.99      0.99      0.99    304887\n",
      "weighted avg       1.00      1.00      1.00    304887\n",
      "\n"
     ]
    }
   ],
   "source": [
    "print(classification_report(y_train, y_pred_train_RF))  ## train"
   ]
  },
  {
   "cell_type": "code",
   "execution_count": 46,
   "metadata": {},
   "outputs": [
    {
     "data": {
      "image/png": "[encoded data removed]",
      "text/plain": [
       "<Figure size 432x288 with 2 Axes>"
      ]
     },
     "metadata": {},
     "output_type": "display_data"
    }
   ],
   "source": [
    "cm_rf_train=confusion_matrix(y_train,y_pred_train_RF,labels=[1,0])\n",
    "df_rf_train=pd.DataFrame(data=cm_rf_train,columns=['pred 1','pred 0'],index=['akt 1','akt 0'])\n",
    "sns.heatmap(df_rf_train,annot=True)\n",
    "plt.show()"
   ]
  },
  {
   "cell_type": "code",
   "execution_count": 47,
   "metadata": {},
   "outputs": [
    {
     "data": {
      "text/html": [
       "<div>\n",
       "<style scoped>\n",
       "    .dataframe tbody tr th:only-of-type {\n",
       "        vertical-align: middle;\n",
       "    }\n",
       "\n",
       "    .dataframe tbody tr th {\n",
       "        vertical-align: top;\n",
       "    }\n",
       "\n",
       "    .dataframe thead th {\n",
       "        text-align: right;\n",
       "    }\n",
       "</style>\n",
       "<table border=\"1\" class=\"dataframe\">\n",
       "  <thead>\n",
       "    <tr style=\"text-align: right;\">\n",
       "      <th></th>\n",
       "      <th>pred 1</th>\n",
       "      <th>pred 0</th>\n",
       "    </tr>\n",
       "  </thead>\n",
       "  <tbody>\n",
       "    <tr>\n",
       "      <th>akt 1</th>\n",
       "      <td>36473</td>\n",
       "      <td>895</td>\n",
       "    </tr>\n",
       "    <tr>\n",
       "      <th>akt 0</th>\n",
       "      <td>278</td>\n",
       "      <td>267241</td>\n",
       "    </tr>\n",
       "  </tbody>\n",
       "</table>\n",
       "</div>"
      ],
      "text/plain": [
       "       pred 1  pred 0\n",
       "akt 1   36473     895\n",
       "akt 0     278  267241"
      ]
     },
     "execution_count": 47,
     "metadata": {},
     "output_type": "execute_result"
    }
   ],
   "source": [
    "df_rf_train"
   ]
  },
  {
   "cell_type": "markdown",
   "metadata": {},
   "source": [
    "- the evaluation matrix of the result is so bad, especially in recall and precision"
   ]
  },
  {
   "cell_type": "markdown",
   "metadata": {},
   "source": [
    "# tuning"
   ]
  },
  {
   "cell_type": "markdown",
   "metadata": {},
   "source": [
    "## logreg"
   ]
  },
  {
   "cell_type": "code",
   "execution_count": 48,
   "metadata": {},
   "outputs": [
    {
     "data": {
      "text/plain": [
       "LogisticRegression(class_weight={0: 0.12, 1: 0.88})"
      ]
     },
     "execution_count": 48,
     "metadata": {},
     "output_type": "execute_result"
    }
   ],
   "source": [
    "tune_LR = LogisticRegression(class_weight={0:.12, 1:.88})\n",
    "tune_LR.fit(X_train, y_train)"
   ]
  },
  {
   "cell_type": "code",
   "execution_count": 49,
   "metadata": {},
   "outputs": [],
   "source": [
    "y_tune_LR = tune_LR.predict(X_test)\n",
    "y_tune_train_LR = tune_LR.predict(X_train)"
   ]
  },
  {
   "cell_type": "code",
   "execution_count": 51,
   "metadata": {},
   "outputs": [
    {
     "name": "stdout",
     "output_type": "stream",
     "text": [
      "              precision    recall  f1-score   support\n",
      "\n",
      "           0       0.91      0.68      0.78    267519\n",
      "           1       0.18      0.49      0.26     37368\n",
      "\n",
      "    accuracy                           0.66    304887\n",
      "   macro avg       0.54      0.59      0.52    304887\n",
      "weighted avg       0.82      0.66      0.72    304887\n",
      "\n"
     ]
    }
   ],
   "source": [
    "print(classification_report(y_train, y_tune_train_LR))"
   ]
  },
  {
   "cell_type": "code",
   "execution_count": 52,
   "metadata": {},
   "outputs": [
    {
     "data": {
      "image/png": "[encoded data removed]",
      "text/plain": [
       "<Figure size 432x288 with 2 Axes>"
      ]
     },
     "metadata": {},
     "output_type": "display_data"
    }
   ],
   "source": [
    "cm_logreg_tuning=confusion_matrix(y_train,y_tune_train_LR,labels=[1,0])\n",
    "df_logreg_tuning=pd.DataFrame(data=cm_logreg_tuning,columns=['pred 1','pred 0'],index=['akt 1','akt 0'])\n",
    "sns.heatmap(df_logreg_tuning,annot=True)\n",
    "plt.show()"
   ]
  },
  {
   "cell_type": "code",
   "execution_count": 53,
   "metadata": {},
   "outputs": [
    {
     "data": {
      "text/html": [
       "<div>\n",
       "<style scoped>\n",
       "    .dataframe tbody tr th:only-of-type {\n",
       "        vertical-align: middle;\n",
       "    }\n",
       "\n",
       "    .dataframe tbody tr th {\n",
       "        vertical-align: top;\n",
       "    }\n",
       "\n",
       "    .dataframe thead th {\n",
       "        text-align: right;\n",
       "    }\n",
       "</style>\n",
       "<table border=\"1\" class=\"dataframe\">\n",
       "  <thead>\n",
       "    <tr style=\"text-align: right;\">\n",
       "      <th></th>\n",
       "      <th>pred 1</th>\n",
       "      <th>pred 0</th>\n",
       "    </tr>\n",
       "  </thead>\n",
       "  <tbody>\n",
       "    <tr>\n",
       "      <th>akt 1</th>\n",
       "      <td>18302</td>\n",
       "      <td>19066</td>\n",
       "    </tr>\n",
       "    <tr>\n",
       "      <th>akt 0</th>\n",
       "      <td>84556</td>\n",
       "      <td>182963</td>\n",
       "    </tr>\n",
       "  </tbody>\n",
       "</table>\n",
       "</div>"
      ],
      "text/plain": [
       "       pred 1  pred 0\n",
       "akt 1   18302   19066\n",
       "akt 0   84556  182963"
      ]
     },
     "execution_count": 53,
     "metadata": {},
     "output_type": "execute_result"
    }
   ],
   "source": [
    "df_logreg_tuning"
   ]
  },
  {
   "cell_type": "code",
   "execution_count": 54,
   "metadata": {},
   "outputs": [
    {
     "name": "stdout",
     "output_type": "stream",
     "text": [
      "              precision    recall  f1-score   support\n",
      "\n",
      "           0       0.91      0.68      0.78     66880\n",
      "           1       0.18      0.49      0.26      9342\n",
      "\n",
      "    accuracy                           0.66     76222\n",
      "   macro avg       0.54      0.59      0.52     76222\n",
      "weighted avg       0.82      0.66      0.72     76222\n",
      "\n"
     ]
    }
   ],
   "source": [
    "print(classification_report(y_test, y_tune_LR))  ## Test"
   ]
  },
  {
   "cell_type": "code",
   "execution_count": 55,
   "metadata": {},
   "outputs": [
    {
     "data": {
      "image/png": "[encoded data removed]",
      "text/plain": [
       "<Figure size 432x288 with 2 Axes>"
      ]
     },
     "metadata": {},
     "output_type": "display_data"
    }
   ],
   "source": [
    "cm_logreg_test_tuning=confusion_matrix(y_test,y_tune_LR,labels=[1,0])\n",
    "df_logreg_test_tuning=pd.DataFrame(data=cm_logreg_test_tuning,columns=['pred 1','pred 0'],index=['akt 1','akt 0'])\n",
    "sns.heatmap(df_logreg_test_tuning,annot=True)\n",
    "plt.show()"
   ]
  },
  {
   "cell_type": "code",
   "execution_count": 56,
   "metadata": {},
   "outputs": [
    {
     "data": {
      "text/html": [
       "<div>\n",
       "<style scoped>\n",
       "    .dataframe tbody tr th:only-of-type {\n",
       "        vertical-align: middle;\n",
       "    }\n",
       "\n",
       "    .dataframe tbody tr th {\n",
       "        vertical-align: top;\n",
       "    }\n",
       "\n",
       "    .dataframe thead th {\n",
       "        text-align: right;\n",
       "    }\n",
       "</style>\n",
       "<table border=\"1\" class=\"dataframe\">\n",
       "  <thead>\n",
       "    <tr style=\"text-align: right;\">\n",
       "      <th></th>\n",
       "      <th>pred 1</th>\n",
       "      <th>pred 0</th>\n",
       "    </tr>\n",
       "  </thead>\n",
       "  <tbody>\n",
       "    <tr>\n",
       "      <th>akt 1</th>\n",
       "      <td>4613</td>\n",
       "      <td>4729</td>\n",
       "    </tr>\n",
       "    <tr>\n",
       "      <th>akt 0</th>\n",
       "      <td>21071</td>\n",
       "      <td>45809</td>\n",
       "    </tr>\n",
       "  </tbody>\n",
       "</table>\n",
       "</div>"
      ],
      "text/plain": [
       "       pred 1  pred 0\n",
       "akt 1    4613    4729\n",
       "akt 0   21071   45809"
      ]
     },
     "execution_count": 56,
     "metadata": {},
     "output_type": "execute_result"
    }
   ],
   "source": [
    "df_logreg_test_tuning"
   ]
  },
  {
   "cell_type": "markdown",
   "metadata": {},
   "source": [
    "### knn"
   ]
  },
  {
   "cell_type": "code",
   "execution_count": 59,
   "metadata": {},
   "outputs": [],
   "source": [
    "tune_KNN = KNeighborsClassifier()\n",
    "\n",
    "param_KNN = {\"n_neighbors\" : [5, 15, 25, 35, 70],\n",
    "            \"weights\" : [\"uniform\", \"distance\"],\n",
    "            \"p\" : [1,2]}"
   ]
  },
  {
   "cell_type": "code",
   "execution_count": 60,
   "metadata": {},
   "outputs": [],
   "source": [
    "model_KNN = GridSearchCV(estimator=tune_KNN, param_grid=param_KNN, n_jobs = -1, cv = 2, verbose=1, scoring='recall')"
   ]
  },
  {
   "cell_type": "code",
   "execution_count": 61,
   "metadata": {},
   "outputs": [
    {
     "name": "stdout",
     "output_type": "stream",
     "text": [
      "Fitting 2 folds for each of 20 candidates, totalling 40 fits\n"
     ]
    },
    {
     "name": "stderr",
     "output_type": "stream",
     "text": [
      "[Parallel(n_jobs=-1)]: Using backend LokyBackend with 4 concurrent workers.\n",
      "[Parallel(n_jobs=-1)]: Done  40 out of  40 | elapsed:  2.6min finished\n"
     ]
    },
    {
     "data": {
      "text/plain": [
       "GridSearchCV(cv=2, estimator=KNeighborsClassifier(), n_jobs=-1,\n",
       "             param_grid={'n_neighbors': [5, 15, 25, 35, 70], 'p': [1, 2],\n",
       "                         'weights': ['uniform', 'distance']},\n",
       "             scoring='recall', verbose=1)"
      ]
     },
     "execution_count": 61,
     "metadata": {},
     "output_type": "execute_result"
    }
   ],
   "source": [
    "model_KNN.fit(X_train, y_train)"
   ]
  },
  {
   "cell_type": "code",
   "execution_count": 62,
   "metadata": {},
   "outputs": [],
   "source": [
    "KNN_Tuned = model_KNN.best_estimator_\n",
    "y_tuned_KNN = KNN_Tuned.predict(X_test)\n",
    "y_tuned_train_KNN = KNN_Tuned.predict(X_train)"
   ]
  },
  {
   "cell_type": "code",
   "execution_count": 63,
   "metadata": {},
   "outputs": [
    {
     "name": "stdout",
     "output_type": "stream",
     "text": [
      "              precision    recall  f1-score   support\n",
      "\n",
      "           0       1.00      1.00      1.00    267519\n",
      "           1       1.00      0.97      0.98     37368\n",
      "\n",
      "    accuracy                           1.00    304887\n",
      "   macro avg       1.00      0.99      0.99    304887\n",
      "weighted avg       1.00      1.00      1.00    304887\n",
      "\n"
     ]
    }
   ],
   "source": [
    "print(classification_report(y_train, y_tuned_train_KNN))  ## Train"
   ]
  },
  {
   "cell_type": "code",
   "execution_count": 64,
   "metadata": {},
   "outputs": [
    {
     "data": {
      "image/png": "[encoded data removed]",
      "text/plain": [
       "<Figure size 432x288 with 2 Axes>"
      ]
     },
     "metadata": {},
     "output_type": "display_data"
    }
   ],
   "source": [
    "cm_knn_tuning=confusion_matrix(y_train,y_tuned_train_KNN,labels=[1,0])\n",
    "df_knn_tuning=pd.DataFrame(data=cm_knn_tuning,columns=['pred 1','pred 0'],index=['akt 1','akt 0'])\n",
    "sns.heatmap(df_knn_tuning,annot=True)\n",
    "plt.show()"
   ]
  },
  {
   "cell_type": "code",
   "execution_count": 65,
   "metadata": {},
   "outputs": [
    {
     "data": {
      "text/html": [
       "<div>\n",
       "<style scoped>\n",
       "    .dataframe tbody tr th:only-of-type {\n",
       "        vertical-align: middle;\n",
       "    }\n",
       "\n",
       "    .dataframe tbody tr th {\n",
       "        vertical-align: top;\n",
       "    }\n",
       "\n",
       "    .dataframe thead th {\n",
       "        text-align: right;\n",
       "    }\n",
       "</style>\n",
       "<table border=\"1\" class=\"dataframe\">\n",
       "  <thead>\n",
       "    <tr style=\"text-align: right;\">\n",
       "      <th></th>\n",
       "      <th>pred 1</th>\n",
       "      <th>pred 0</th>\n",
       "    </tr>\n",
       "  </thead>\n",
       "  <tbody>\n",
       "    <tr>\n",
       "      <th>akt 1</th>\n",
       "      <td>36301</td>\n",
       "      <td>1067</td>\n",
       "    </tr>\n",
       "    <tr>\n",
       "      <th>akt 0</th>\n",
       "      <td>95</td>\n",
       "      <td>267424</td>\n",
       "    </tr>\n",
       "  </tbody>\n",
       "</table>\n",
       "</div>"
      ],
      "text/plain": [
       "       pred 1  pred 0\n",
       "akt 1   36301    1067\n",
       "akt 0      95  267424"
      ]
     },
     "execution_count": 65,
     "metadata": {},
     "output_type": "execute_result"
    }
   ],
   "source": [
    "df_knn_tuning"
   ]
  },
  {
   "cell_type": "code",
   "execution_count": 66,
   "metadata": {},
   "outputs": [
    {
     "name": "stdout",
     "output_type": "stream",
     "text": [
      "              precision    recall  f1-score   support\n",
      "\n",
      "           0       0.88      0.96      0.92     66880\n",
      "           1       0.22      0.08      0.12      9342\n",
      "\n",
      "    accuracy                           0.85     76222\n",
      "   macro avg       0.55      0.52      0.52     76222\n",
      "weighted avg       0.80      0.85      0.82     76222\n",
      "\n"
     ]
    }
   ],
   "source": [
    "print(classification_report(y_test, y_tuned_KNN))  ## Test"
   ]
  },
  {
   "cell_type": "code",
   "execution_count": 67,
   "metadata": {},
   "outputs": [
    {
     "data": {
      "image/png": "[encoded data removed]",
      "text/plain": [
       "<Figure size 432x288 with 2 Axes>"
      ]
     },
     "metadata": {},
     "output_type": "display_data"
    }
   ],
   "source": [
    "cm_knn_test_tuning=confusion_matrix(y_test,y_tune_LR,labels=[1,0])\n",
    "df_knn_test_tuning=pd.DataFrame(data=cm_knn_test_tuning,columns=['pred 1','pred 0'],index=['akt 1','akt 0'])\n",
    "sns.heatmap(df_knn_test_tuning,annot=True)\n",
    "plt.show()"
   ]
  },
  {
   "cell_type": "code",
   "execution_count": 68,
   "metadata": {},
   "outputs": [
    {
     "data": {
      "text/html": [
       "<div>\n",
       "<style scoped>\n",
       "    .dataframe tbody tr th:only-of-type {\n",
       "        vertical-align: middle;\n",
       "    }\n",
       "\n",
       "    .dataframe tbody tr th {\n",
       "        vertical-align: top;\n",
       "    }\n",
       "\n",
       "    .dataframe thead th {\n",
       "        text-align: right;\n",
       "    }\n",
       "</style>\n",
       "<table border=\"1\" class=\"dataframe\">\n",
       "  <thead>\n",
       "    <tr style=\"text-align: right;\">\n",
       "      <th></th>\n",
       "      <th>pred 1</th>\n",
       "      <th>pred 0</th>\n",
       "    </tr>\n",
       "  </thead>\n",
       "  <tbody>\n",
       "    <tr>\n",
       "      <th>akt 1</th>\n",
       "      <td>4613</td>\n",
       "      <td>4729</td>\n",
       "    </tr>\n",
       "    <tr>\n",
       "      <th>akt 0</th>\n",
       "      <td>21071</td>\n",
       "      <td>45809</td>\n",
       "    </tr>\n",
       "  </tbody>\n",
       "</table>\n",
       "</div>"
      ],
      "text/plain": [
       "       pred 1  pred 0\n",
       "akt 1    4613    4729\n",
       "akt 0   21071   45809"
      ]
     },
     "execution_count": 68,
     "metadata": {},
     "output_type": "execute_result"
    }
   ],
   "source": [
    "df_knn_test_tuning"
   ]
  },
  {
   "cell_type": "markdown",
   "metadata": {},
   "source": [
    "### random forest"
   ]
  },
  {
   "cell_type": "code",
   "execution_count": 69,
   "metadata": {},
   "outputs": [],
   "source": [
    "tune_RF = RandomForestClassifier()\n",
    "\n",
    "param_RF ={\"max_depth\" : [None, 5, 7, 9],\n",
    "          \"min_samples_split\" : [2, 9, 15],\n",
    "          \"min_samples_leaf\" : [1, 2, 5],\n",
    "          \"max_features\" : [None, .8, .7]}"
   ]
  },
  {
   "cell_type": "code",
   "execution_count": 70,
   "metadata": {},
   "outputs": [],
   "source": [
    "model_RF = GridSearchCV(estimator=tune_RF, param_grid=param_RF, cv = 2, n_jobs=-1, verbose=1)"
   ]
  },
  {
   "cell_type": "code",
   "execution_count": 71,
   "metadata": {},
   "outputs": [
    {
     "name": "stdout",
     "output_type": "stream",
     "text": [
      "Fitting 2 folds for each of 108 candidates, totalling 216 fits\n"
     ]
    },
    {
     "name": "stderr",
     "output_type": "stream",
     "text": [
      "[Parallel(n_jobs=-1)]: Using backend LokyBackend with 4 concurrent workers.\n",
      "[Parallel(n_jobs=-1)]: Done  42 tasks      | elapsed:  8.8min\n",
      "[Parallel(n_jobs=-1)]: Done 192 tasks      | elapsed: 24.9min\n",
      "[Parallel(n_jobs=-1)]: Done 216 out of 216 | elapsed: 28.4min finished\n"
     ]
    },
    {
     "data": {
      "text/plain": [
       "GridSearchCV(cv=2, estimator=RandomForestClassifier(), n_jobs=-1,\n",
       "             param_grid={'max_depth': [None, 5, 7, 9],\n",
       "                         'max_features': [None, 0.8, 0.7],\n",
       "                         'min_samples_leaf': [1, 2, 5],\n",
       "                         'min_samples_split': [2, 9, 15]},\n",
       "             verbose=1)"
      ]
     },
     "execution_count": 71,
     "metadata": {},
     "output_type": "execute_result"
    }
   ],
   "source": [
    "model_RF.fit(X_train, y_train)"
   ]
  },
  {
   "cell_type": "code",
   "execution_count": 72,
   "metadata": {},
   "outputs": [],
   "source": [
    "RF_tuned = model_RF.best_estimator_\n",
    "y_tuned_RF = RF_tuned.predict(X_test)\n",
    "y_tuned_train_RF = RF_tuned.predict(X_train)"
   ]
  },
  {
   "cell_type": "code",
   "execution_count": 75,
   "metadata": {},
   "outputs": [
    {
     "name": "stdout",
     "output_type": "stream",
     "text": [
      "              precision    recall  f1-score   support\n",
      "\n",
      "           0       0.88      1.00      0.93    267519\n",
      "           1       0.70      0.00      0.00     37368\n",
      "\n",
      "    accuracy                           0.88    304887\n",
      "   macro avg       0.79      0.50      0.47    304887\n",
      "weighted avg       0.86      0.88      0.82    304887\n",
      "\n"
     ]
    }
   ],
   "source": [
    "print(classification_report(y_train, y_tuned_train_RF))  ## Train"
   ]
  },
  {
   "cell_type": "code",
   "execution_count": 73,
   "metadata": {},
   "outputs": [
    {
     "data": {
      "image/png": "[encoded data removed]",
      "text/plain": [
       "<Figure size 432x288 with 2 Axes>"
      ]
     },
     "metadata": {},
     "output_type": "display_data"
    }
   ],
   "source": [
    "cm_rf_tuning=confusion_matrix(y_train,y_tuned_train_RF,labels=[1,0])\n",
    "df_rf_tuning=pd.DataFrame(data=cm_rf_tuning,columns=['pred 1','pred 0'],index=['akt 1','akt 0'])\n",
    "sns.heatmap(df_rf_tuning,annot=True)\n",
    "plt.show()"
   ]
  },
  {
   "cell_type": "code",
   "execution_count": 74,
   "metadata": {},
   "outputs": [
    {
     "data": {
      "text/html": [
       "<div>\n",
       "<style scoped>\n",
       "    .dataframe tbody tr th:only-of-type {\n",
       "        vertical-align: middle;\n",
       "    }\n",
       "\n",
       "    .dataframe tbody tr th {\n",
       "        vertical-align: top;\n",
       "    }\n",
       "\n",
       "    .dataframe thead th {\n",
       "        text-align: right;\n",
       "    }\n",
       "</style>\n",
       "<table border=\"1\" class=\"dataframe\">\n",
       "  <thead>\n",
       "    <tr style=\"text-align: right;\">\n",
       "      <th></th>\n",
       "      <th>pred 1</th>\n",
       "      <th>pred 0</th>\n",
       "    </tr>\n",
       "  </thead>\n",
       "  <tbody>\n",
       "    <tr>\n",
       "      <th>akt 1</th>\n",
       "      <td>43</td>\n",
       "      <td>37325</td>\n",
       "    </tr>\n",
       "    <tr>\n",
       "      <th>akt 0</th>\n",
       "      <td>18</td>\n",
       "      <td>267501</td>\n",
       "    </tr>\n",
       "  </tbody>\n",
       "</table>\n",
       "</div>"
      ],
      "text/plain": [
       "       pred 1  pred 0\n",
       "akt 1      43   37325\n",
       "akt 0      18  267501"
      ]
     },
     "execution_count": 74,
     "metadata": {},
     "output_type": "execute_result"
    }
   ],
   "source": [
    "df_rf_tuning"
   ]
  },
  {
   "cell_type": "code",
   "execution_count": 76,
   "metadata": {},
   "outputs": [
    {
     "name": "stdout",
     "output_type": "stream",
     "text": [
      "              precision    recall  f1-score   support\n",
      "\n",
      "           0       0.88      1.00      0.93     66880\n",
      "           1       0.56      0.00      0.00      9342\n",
      "\n",
      "    accuracy                           0.88     76222\n",
      "   macro avg       0.72      0.50      0.47     76222\n",
      "weighted avg       0.84      0.88      0.82     76222\n",
      "\n"
     ]
    }
   ],
   "source": [
    "print(classification_report(y_test, y_tuned_RF)) ## Test"
   ]
  },
  {
   "cell_type": "code",
   "execution_count": 77,
   "metadata": {},
   "outputs": [
    {
     "data": {
      "image/png": "[encoded data removed]",
      "text/plain": [
       "<Figure size 432x288 with 2 Axes>"
      ]
     },
     "metadata": {},
     "output_type": "display_data"
    }
   ],
   "source": [
    "cm_rf_test_tuning=confusion_matrix(y_test,y_tuned_RF,labels=[1,0])\n",
    "df_rf_test_tuning=pd.DataFrame(data=cm_rf_test_tuning,columns=['pred 1','pred 0'],index=['akt 1','akt 0'])\n",
    "sns.heatmap(df_rf_test_tuning,annot=True)\n",
    "plt.show()"
   ]
  },
  {
   "cell_type": "code",
   "execution_count": 78,
   "metadata": {},
   "outputs": [
    {
     "data": {
      "text/html": [
       "<div>\n",
       "<style scoped>\n",
       "    .dataframe tbody tr th:only-of-type {\n",
       "        vertical-align: middle;\n",
       "    }\n",
       "\n",
       "    .dataframe tbody tr th {\n",
       "        vertical-align: top;\n",
       "    }\n",
       "\n",
       "    .dataframe thead th {\n",
       "        text-align: right;\n",
       "    }\n",
       "</style>\n",
       "<table border=\"1\" class=\"dataframe\">\n",
       "  <thead>\n",
       "    <tr style=\"text-align: right;\">\n",
       "      <th></th>\n",
       "      <th>pred 1</th>\n",
       "      <th>pred 0</th>\n",
       "    </tr>\n",
       "  </thead>\n",
       "  <tbody>\n",
       "    <tr>\n",
       "      <th>akt 1</th>\n",
       "      <td>5</td>\n",
       "      <td>9337</td>\n",
       "    </tr>\n",
       "    <tr>\n",
       "      <th>akt 0</th>\n",
       "      <td>4</td>\n",
       "      <td>66876</td>\n",
       "    </tr>\n",
       "  </tbody>\n",
       "</table>\n",
       "</div>"
      ],
      "text/plain": [
       "       pred 1  pred 0\n",
       "akt 1       5    9337\n",
       "akt 0       4   66876"
      ]
     },
     "execution_count": 78,
     "metadata": {},
     "output_type": "execute_result"
    }
   ],
   "source": [
    "df_rf_test_tuning"
   ]
  },
  {
   "cell_type": "markdown",
   "metadata": {},
   "source": [
    "# result"
   ]
  },
  {
   "cell_type": "code",
   "execution_count": 81,
   "metadata": {},
   "outputs": [
    {
     "data": {
      "text/html": [
       "<div>\n",
       "<style scoped>\n",
       "    .dataframe tbody tr th:only-of-type {\n",
       "        vertical-align: middle;\n",
       "    }\n",
       "\n",
       "    .dataframe tbody tr th {\n",
       "        vertical-align: top;\n",
       "    }\n",
       "\n",
       "    .dataframe thead th {\n",
       "        text-align: right;\n",
       "    }\n",
       "</style>\n",
       "<table border=\"1\" class=\"dataframe\">\n",
       "  <thead>\n",
       "    <tr style=\"text-align: right;\">\n",
       "      <th></th>\n",
       "      <th>Precision_Train</th>\n",
       "      <th>Precision_Test</th>\n",
       "      <th>Recall_Train</th>\n",
       "      <th>Recall_Test</th>\n",
       "    </tr>\n",
       "  </thead>\n",
       "  <tbody>\n",
       "    <tr>\n",
       "      <th>LogReg</th>\n",
       "      <td>0.277040</td>\n",
       "      <td>0.283422</td>\n",
       "      <td>0.063611</td>\n",
       "      <td>0.062406</td>\n",
       "    </tr>\n",
       "    <tr>\n",
       "      <th>KNN_Clas</th>\n",
       "      <td>0.615599</td>\n",
       "      <td>0.201018</td>\n",
       "      <td>0.153554</td>\n",
       "      <td>0.050739</td>\n",
       "    </tr>\n",
       "    <tr>\n",
       "      <th>RF_Clas</th>\n",
       "      <td>0.992436</td>\n",
       "      <td>0.305297</td>\n",
       "      <td>0.976049</td>\n",
       "      <td>0.143759</td>\n",
       "    </tr>\n",
       "  </tbody>\n",
       "</table>\n",
       "</div>"
      ],
      "text/plain": [
       "          Precision_Train  Precision_Test  Recall_Train  Recall_Test\n",
       "LogReg           0.277040        0.283422      0.063611     0.062406\n",
       "KNN_Clas         0.615599        0.201018      0.153554     0.050739\n",
       "RF_Clas          0.992436        0.305297      0.976049     0.143759"
      ]
     },
     "execution_count": 81,
     "metadata": {},
     "output_type": "execute_result"
    }
   ],
   "source": [
    "prec_train_LR = precision_score(y_train, y_pred_train_LR)\n",
    "prec_train_KNN = precision_score(y_train, y_pred_train_KNN)\n",
    "prec_train_RF = precision_score(y_train, y_pred_train_RF)\n",
    "\n",
    "prec_test_LR = precision_score(y_test, y_pred_LR)\n",
    "prec_test_KNN = precision_score(y_test, y_pred_KNN)\n",
    "prec_test_RF = precision_score(y_test, y_pred_RF)\n",
    "\n",
    "rec_train_LR = recall_score(y_train, y_pred_train_LR)\n",
    "rec_train_KNN = recall_score(y_train, y_pred_train_KNN)\n",
    "rec_train_RF = recall_score(y_train, y_pred_train_RF)\n",
    "\n",
    "rec_test_LR = recall_score(y_test, y_pred_LR)\n",
    "rec_test_KNN = recall_score(y_test, y_pred_KNN)\n",
    "rec_test_RF = recall_score(y_test, y_pred_RF)\n",
    "\n",
    "data_base = {\n",
    "    'Precision_Train':[prec_train_LR, prec_train_KNN, prec_train_RF],\n",
    "    'Precision_Test':[prec_test_LR, prec_test_KNN, prec_test_RF],\n",
    "    'Recall_Train':[rec_train_LR, rec_train_KNN, rec_train_RF],\n",
    "    'Recall_Test':[rec_test_LR, rec_test_KNN, rec_test_RF]\n",
    "}\n",
    "\n",
    "pd.DataFrame(data=data_base, index=['LogReg','KNN_Clas','RF_Clas'])"
   ]
  },
  {
   "cell_type": "code",
   "execution_count": 84,
   "metadata": {},
   "outputs": [],
   "source": [
    "datas=pd.DataFrame(data=data_base, index=['LogReg','KNN_Clas','RF_Clas'])"
   ]
  },
  {
   "cell_type": "code",
   "execution_count": 79,
   "metadata": {},
   "outputs": [],
   "source": [
    "prec_train_LR = precision_score(y_train, y_tune_train_LR)\n",
    "prec_train_KNN = precision_score(y_train, y_tuned_train_KNN)\n",
    "prec_train_RF = precision_score(y_train, y_tuned_train_RF)\n",
    "\n",
    "prec_test_LR = precision_score(y_test, y_tune_LR)\n",
    "prec_test_KNN = precision_score(y_test, y_tuned_KNN)\n",
    "prec_test_RF = precision_score(y_test, y_tuned_RF)\n",
    "\n",
    "rec_train_LR = recall_score(y_train, y_tune_train_LR)\n",
    "rec_train_KNN = recall_score(y_train, y_tuned_train_KNN)\n",
    "rec_train_RF = recall_score(y_train, y_tuned_train_RF)\n",
    "\n",
    "rec_test_LR = recall_score(y_test, y_tune_LR)\n",
    "rec_test_KNN = recall_score(y_test, y_tuned_KNN)\n",
    "rec_test_RF = recall_score(y_test, y_tuned_RF)"
   ]
  },
  {
   "cell_type": "code",
   "execution_count": 80,
   "metadata": {},
   "outputs": [
    {
     "data": {
      "text/html": [
       "<div>\n",
       "<style scoped>\n",
       "    .dataframe tbody tr th:only-of-type {\n",
       "        vertical-align: middle;\n",
       "    }\n",
       "\n",
       "    .dataframe tbody tr th {\n",
       "        vertical-align: top;\n",
       "    }\n",
       "\n",
       "    .dataframe thead th {\n",
       "        text-align: right;\n",
       "    }\n",
       "</style>\n",
       "<table border=\"1\" class=\"dataframe\">\n",
       "  <thead>\n",
       "    <tr style=\"text-align: right;\">\n",
       "      <th></th>\n",
       "      <th>Precision_Train</th>\n",
       "      <th>Precision_Test</th>\n",
       "      <th>Recall_Train</th>\n",
       "      <th>Recall_Test</th>\n",
       "    </tr>\n",
       "  </thead>\n",
       "  <tbody>\n",
       "    <tr>\n",
       "      <th>LogReg_US_Tuned</th>\n",
       "      <td>0.177935</td>\n",
       "      <td>0.179606</td>\n",
       "      <td>0.489777</td>\n",
       "      <td>0.493791</td>\n",
       "    </tr>\n",
       "    <tr>\n",
       "      <th>KNN_US_Tuned</th>\n",
       "      <td>0.997390</td>\n",
       "      <td>0.216530</td>\n",
       "      <td>0.971446</td>\n",
       "      <td>0.081888</td>\n",
       "    </tr>\n",
       "    <tr>\n",
       "      <th>RF_US_Tuned</th>\n",
       "      <td>0.704918</td>\n",
       "      <td>0.555556</td>\n",
       "      <td>0.001151</td>\n",
       "      <td>0.000535</td>\n",
       "    </tr>\n",
       "  </tbody>\n",
       "</table>\n",
       "</div>"
      ],
      "text/plain": [
       "                 Precision_Train  Precision_Test  Recall_Train  Recall_Test\n",
       "LogReg_US_Tuned         0.177935        0.179606      0.489777     0.493791\n",
       "KNN_US_Tuned            0.997390        0.216530      0.971446     0.081888\n",
       "RF_US_Tuned             0.704918        0.555556      0.001151     0.000535"
      ]
     },
     "execution_count": 80,
     "metadata": {},
     "output_type": "execute_result"
    }
   ],
   "source": [
    "data = {\n",
    "    'Precision_Train':[prec_train_LR, prec_train_KNN, prec_train_RF],\n",
    "    'Precision_Test':[prec_test_LR, prec_test_KNN, prec_test_RF],\n",
    "    'Recall_Train':[rec_train_LR, rec_train_KNN, rec_train_RF],\n",
    "    'Recall_Test':[rec_test_LR, rec_test_KNN, rec_test_RF],\n",
    "}\n",
    "\n",
    "pd.DataFrame(data=data, index=['LogReg_US_Tuned','KNN_US_Tuned','RF_US_Tuned'])"
   ]
  },
  {
   "cell_type": "code",
   "execution_count": 85,
   "metadata": {},
   "outputs": [],
   "source": [
    "datass=pd.DataFrame(data=data, index=['LogReg_US_Tuned','KNN_US_Tuned','RF_US_Tuned'])"
   ]
  },
  {
   "cell_type": "code",
   "execution_count": 86,
   "metadata": {},
   "outputs": [
    {
     "data": {
      "text/html": [
       "<div>\n",
       "<style scoped>\n",
       "    .dataframe tbody tr th:only-of-type {\n",
       "        vertical-align: middle;\n",
       "    }\n",
       "\n",
       "    .dataframe tbody tr th {\n",
       "        vertical-align: top;\n",
       "    }\n",
       "\n",
       "    .dataframe thead th {\n",
       "        text-align: right;\n",
       "    }\n",
       "</style>\n",
       "<table border=\"1\" class=\"dataframe\">\n",
       "  <thead>\n",
       "    <tr style=\"text-align: right;\">\n",
       "      <th></th>\n",
       "      <th>Precision_Train</th>\n",
       "      <th>Precision_Test</th>\n",
       "      <th>Recall_Train</th>\n",
       "      <th>Recall_Test</th>\n",
       "    </tr>\n",
       "  </thead>\n",
       "  <tbody>\n",
       "    <tr>\n",
       "      <th>LogReg</th>\n",
       "      <td>0.277040</td>\n",
       "      <td>0.283422</td>\n",
       "      <td>0.063611</td>\n",
       "      <td>0.062406</td>\n",
       "    </tr>\n",
       "    <tr>\n",
       "      <th>KNN_Clas</th>\n",
       "      <td>0.615599</td>\n",
       "      <td>0.201018</td>\n",
       "      <td>0.153554</td>\n",
       "      <td>0.050739</td>\n",
       "    </tr>\n",
       "    <tr>\n",
       "      <th>RF_Clas</th>\n",
       "      <td>0.992436</td>\n",
       "      <td>0.305297</td>\n",
       "      <td>0.976049</td>\n",
       "      <td>0.143759</td>\n",
       "    </tr>\n",
       "    <tr>\n",
       "      <th>LogReg_US_Tuned</th>\n",
       "      <td>0.177935</td>\n",
       "      <td>0.179606</td>\n",
       "      <td>0.489777</td>\n",
       "      <td>0.493791</td>\n",
       "    </tr>\n",
       "    <tr>\n",
       "      <th>KNN_US_Tuned</th>\n",
       "      <td>0.997390</td>\n",
       "      <td>0.216530</td>\n",
       "      <td>0.971446</td>\n",
       "      <td>0.081888</td>\n",
       "    </tr>\n",
       "    <tr>\n",
       "      <th>RF_US_Tuned</th>\n",
       "      <td>0.704918</td>\n",
       "      <td>0.555556</td>\n",
       "      <td>0.001151</td>\n",
       "      <td>0.000535</td>\n",
       "    </tr>\n",
       "  </tbody>\n",
       "</table>\n",
       "</div>"
      ],
      "text/plain": [
       "                 Precision_Train  Precision_Test  Recall_Train  Recall_Test\n",
       "LogReg                  0.277040        0.283422      0.063611     0.062406\n",
       "KNN_Clas                0.615599        0.201018      0.153554     0.050739\n",
       "RF_Clas                 0.992436        0.305297      0.976049     0.143759\n",
       "LogReg_US_Tuned         0.177935        0.179606      0.489777     0.493791\n",
       "KNN_US_Tuned            0.997390        0.216530      0.971446     0.081888\n",
       "RF_US_Tuned             0.704918        0.555556      0.001151     0.000535"
      ]
     },
     "execution_count": 86,
     "metadata": {},
     "output_type": "execute_result"
    }
   ],
   "source": [
    "pd.concat([datas, datass])"
   ]
  },
  {
   "cell_type": "markdown",
   "metadata": {},
   "source": [
    "- the best score we got is, when we use knn because recall and the precission increasing"
   ]
  }
 ],
 "metadata": {
  "kernelspec": {
   "display_name": "Python 3",
   "language": "python",
   "name": "python3"
  },
  "language_info": {
   "codemirror_mode": {
    "name": "ipython",
    "version": 3
   },
   "file_extension": ".py",
   "mimetype": "text/x-python",
   "name": "python",
   "nbconvert_exporter": "python",
   "pygments_lexer": "ipython3",
   "version": "3.6.8"
  }
 },
 "nbformat": 4,
 "nbformat_minor": 2
}
